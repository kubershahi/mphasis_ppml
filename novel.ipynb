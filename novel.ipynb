{
 "cells": [
  {
   "cell_type": "markdown",
   "source": [
    "\n",
    "**Given U, find f(U) privately, where f = Double ReLU**\n",
    "\n",
    "f(z) is defined as:\n",
    "- f(z) = 0, if z < -1/2\n",
    "- f(z) = z + 1/2, if -1/2 < z < 1/2\n",
    "- f(z) = 1, if z > 1/2"
   ],
   "metadata": {}
  },
  {
   "cell_type": "code",
   "execution_count": 2,
   "source": [
    "# Beavers Triplet Generation\n",
    "\n",
    "u = 3\n",
    "v = 4\n",
    "z = u * v\n"
   ],
   "outputs": [],
   "metadata": {}
  },
  {
   "cell_type": "code",
   "execution_count": 3,
   "source": [
    "import random"
   ],
   "outputs": [],
   "metadata": {}
  },
  {
   "cell_type": "code",
   "execution_count": 4,
   "source": [
    "def multiply(i,a,b,e,f,z):\n",
    "    #e = a - u\n",
    "    #f = b - v\n",
    "    if i == 0:\n",
    "        c = a*f + b*e + z\n",
    "    else:\n",
    "        c = -e*f + a*f + b*e + z\n",
    "    return c\n"
   ],
   "outputs": [],
   "metadata": {}
  },
  {
   "cell_type": "code",
   "execution_count": 5,
   "source": [
    "def share(a):\n",
    "    r = random.randint(0,8)\n",
    "    a0 = r\n",
    "    a1 = a - r\n",
    "    return (a0,a1)\n",
    "\n",
    "def rec(a,b):\n",
    "    return a+b"
   ],
   "outputs": [],
   "metadata": {}
  },
  {
   "cell_type": "code",
   "execution_count": 6,
   "source": [
    "num1 = 10\n",
    "num2 = 12\n",
    "n0, n1 = share(num1)\n",
    "\n",
    "print(f\"N0 = {n0}, N1 = {n1}\")\n",
    "m0, m1 = share(num2)\n",
    "print(f\"M0 = {m0}, M1 = {m1}\")"
   ],
   "outputs": [
    {
     "output_type": "stream",
     "name": "stdout",
     "text": [
      "N0 = 8, N1 = 2\n",
      "M0 = 7, M1 = 5\n"
     ]
    }
   ],
   "metadata": {}
  },
  {
   "cell_type": "code",
   "execution_count": 176,
   "source": [
    "z0, z1 = share(z)\n",
    "e = num1 - u\n",
    "f = num2 - v\n",
    "\n",
    "nm0 = multiply(0,n0,m0,e,f,z0)\n",
    "print(nm0)\n",
    "nm1 = multiply(1,n1,m1,e,f,z1)\n",
    "print(nm1)"
   ],
   "outputs": [
    {
     "output_type": "stream",
     "name": "stdout",
     "text": [
      "65\n",
      "55\n"
     ]
    }
   ],
   "metadata": {}
  },
  {
   "cell_type": "code",
   "execution_count": 177,
   "source": [
    "print(rec(nm0,nm1))"
   ],
   "outputs": [
    {
     "output_type": "stream",
     "name": "stdout",
     "text": [
      "120\n"
     ]
    }
   ],
   "metadata": {}
  },
  {
   "cell_type": "code",
   "execution_count": 209,
   "source": [
    "#theta = random.uniform(-3,3)\n",
    "out = 0\n",
    "\n",
    "theta = 123\n",
    "delta = theta + 0.5\n",
    "gamma = theta - 0.5\n",
    "delta0, delta1 = share(delta)\n",
    "gamma0, gamma1 = share(gamma)\n",
    "print(delta0)\n",
    "print(delta1)\n",
    "\n",
    "r = random.randint(1,5) # positive random number\n",
    "r0, r1 = share(r)\n",
    "print(r)\n",
    "\n",
    "e = r - u\n",
    "f = delta - v\n",
    "rdelta0 = multiply(0,r0,delta0,e,f,z0)\n",
    "rdelta1 = multiply(1,r1,delta1,e,f,z1)\n",
    "print(rdelta0)\n",
    "print(rdelta1)\n",
    "\n",
    "rdelta = rec(rdelta0, rdelta1)\n",
    "print(f\"theta: {theta}, rdelta: {rdelta}\")\n",
    "\n",
    "if (rdelta < 0): \n",
    "    out = 0\n",
    "    \n",
    "else:\n",
    "    s = random.randint(1,5) # positive random number\n",
    "    s0, s1 = share(r)\n",
    "    print(gamma)\n",
    "    print(s)\n",
    "    e = s - u\n",
    "    f = gamma - v\n",
    "    sgamma0 = multiply(0,s0,gamma0,e,f,z0)\n",
    "    sgamma1 = multiply(1,s1,gamma1,e,f,z1)\n",
    "    print(sgamma0)\n",
    "    print(sgamma1)\n",
    "    sgamma = rec(sgamma0, sgamma1)\n",
    "    \n",
    "    if (sgamma > 0):\n",
    "        out = 1\n",
    "    else:\n",
    "        out = delta\n",
    "\n",
    "print(f\"========================\")\n",
    "print(f\"theta: {theta}, out: {out}\")\n"
   ],
   "outputs": [
    {
     "output_type": "stream",
     "name": "stdout",
     "text": [
      "2\n",
      "121.5\n",
      "2\n",
      "357.5\n",
      "-110.5\n",
      "theta: 123, rdelta: 247.0\n",
      "122.5\n",
      "4\n",
      "126.5\n",
      "126.5\n",
      "========================\n",
      "theta: 123, out: 1\n"
     ]
    }
   ],
   "metadata": {}
  },
  {
   "cell_type": "code",
   "execution_count": null,
   "source": [],
   "outputs": [],
   "metadata": {}
  },
  {
   "cell_type": "code",
   "execution_count": null,
   "source": [],
   "outputs": [],
   "metadata": {}
  }
 ],
 "metadata": {
  "kernelspec": {
   "name": "python3",
   "display_name": "Python 3.8.10 64-bit"
  },
  "language_info": {
   "codemirror_mode": {
    "name": "ipython",
    "version": 3
   },
   "file_extension": ".py",
   "mimetype": "text/x-python",
   "name": "python",
   "nbconvert_exporter": "python",
   "pygments_lexer": "ipython3",
   "version": "3.8.10"
  },
  "interpreter": {
   "hash": "aee8b7b246df8f9039afb4144a1f6fd8d2ca17a180786b69acc140d282b71a49"
  }
 },
 "nbformat": 4,
 "nbformat_minor": 4
}